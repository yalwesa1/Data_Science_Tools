{
 "cells": [
  {
   "cell_type": "markdown",
   "id": "7dae0717",
   "metadata": {},
   "source": [
    "# Data Science Tools and Ecosystem"
   ]
  },
  {
   "cell_type": "markdown",
   "id": "13ce60f6",
   "metadata": {},
   "source": [
    "In this notebook, Data Science Tools and Ecosystem are summarized."
   ]
  },
  {
   "cell_type": "markdown",
   "id": "f59e8a1a",
   "metadata": {},
   "source": [
    "- Some of the popular languages that Data Scientists use are:\n",
    "    1) Python Language\n",
    "    2) R Language\n",
    "    3) Julia"
   ]
  },
  {
   "cell_type": "markdown",
   "id": "3c37d40f",
   "metadata": {},
   "source": [
    "* Some of the commonly used libraries used by Data Scientists include:\n",
    "   1) Pandas\n",
    "   2) Matplotlib: Visualization with Python\n",
    "   3) scikit-learn: machine learning in Python\n",
    "    "
   ]
  },
  {
   "cell_type": "markdown",
   "id": "d924c40c",
   "metadata": {},
   "source": [
    "| Data Science Tools|\n",
    "------------------------------\n",
    "Programming Languages\n",
    "Data Manipulation and Analysis\n",
    "Machine Learning and Statistical Modeling\n",
    "Data Visualization\n",
    "-------------------------------"
   ]
  },
  {
   "cell_type": "markdown",
   "id": "76697bf1",
   "metadata": {},
   "source": [
    "### Below are a few examples of evaluating arithmetic expressions in Python"
   ]
  },
  {
   "cell_type": "code",
   "execution_count": 2,
   "id": "e8cff0cd",
   "metadata": {},
   "outputs": [
    {
     "data": {
      "text/plain": [
       "3"
      ]
     },
     "execution_count": 2,
     "metadata": {},
     "output_type": "execute_result"
    }
   ],
   "source": [
    "1+2"
   ]
  },
  {
   "cell_type": "code",
   "execution_count": 4,
   "id": "a10961e4",
   "metadata": {},
   "outputs": [
    {
     "name": "stdout",
     "output_type": "stream",
     "text": [
      "x= 5   y= 10    x*y= 50     x+y= 15   y/x= 2.0\n"
     ]
    }
   ],
   "source": [
    "x,y=5,10\n",
    "z=x*y\n",
    "adding=x+y\n",
    "divsion=y/x\n",
    "print('x=',x,' ','y=',y,'  ','x*y=',z,'   ','x+y=',adding,' ','y/x=',divsion)"
   ]
  },
  {
   "cell_type": "code",
   "execution_count": 5,
   "id": "3cd9abcc",
   "metadata": {},
   "outputs": [
    {
     "data": {
      "text/plain": [
       "17"
      ]
     },
     "execution_count": 5,
     "metadata": {},
     "output_type": "execute_result"
    }
   ],
   "source": [
    "#This a simple arithmetic expression to mutiply then add integer\n",
    "(3*4)+5"
   ]
  },
  {
   "cell_type": "code",
   "execution_count": 6,
   "id": "a7459ddb",
   "metadata": {},
   "outputs": [
    {
     "name": "stdout",
     "output_type": "stream",
     "text": [
      "3.3333333333333335\n"
     ]
    }
   ],
   "source": [
    "#This will convert 200 minutes to hours by diving by 60\n",
    "minutes = 200\n",
    "hours = minutes / 60\n",
    "print(hours) "
   ]
  },
  {
   "cell_type": "markdown",
   "id": "5a327100",
   "metadata": {},
   "source": [
    "**Objectives:**\n",
    "  1) Learning Python Language and Data Science Tolls\n",
    "  2) Learning basics about R despite I am not familiar with\n",
    "  3) learning to create GitHub account."
   ]
  },
  {
   "cell_type": "markdown",
   "id": "60da66f8",
   "metadata": {},
   "source": [
    "## Author name: \n",
    "    Yaseen Alwesabi"
   ]
  },
  {
   "cell_type": "code",
   "execution_count": null,
   "id": "c45c379a",
   "metadata": {},
   "outputs": [],
   "source": []
  }
 ],
 "metadata": {
  "kernelspec": {
   "display_name": "Python 3 (ipykernel)",
   "language": "python",
   "name": "python3"
  },
  "language_info": {
   "codemirror_mode": {
    "name": "ipython",
    "version": 3
   },
   "file_extension": ".py",
   "mimetype": "text/x-python",
   "name": "python",
   "nbconvert_exporter": "python",
   "pygments_lexer": "ipython3",
   "version": "3.10.9"
  }
 },
 "nbformat": 4,
 "nbformat_minor": 5
}
